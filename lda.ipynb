{
 "cells": [
  {
   "cell_type": "code",
   "execution_count": null,
   "id": "faf9cfe9-f3aa-4569-95f8-7426f86c6fee",
   "metadata": {},
   "outputs": [],
   "source": [
    "import pandas as pd\n",
    "import numpy as np"
   ]
  },
  {
   "cell_type": "code",
   "execution_count": null,
   "id": "9b10d153-f267-4a26-85d3-9dec15019ff5",
   "metadata": {},
   "outputs": [],
   "source": [
    "df = pd.read_csv(\"turkish_news_70000.csv\",index_col = \"id\")"
   ]
  },
  {
   "cell_type": "code",
   "execution_count": null,
   "id": "bfada592-f188-4345-bb0b-b0640d987c63",
   "metadata": {},
   "outputs": [],
   "source": [
    "df =df.head(1000)\n",
    "df.head()"
   ]
  },
  {
   "cell_type": "markdown",
   "id": "45ca4d05-2bdf-47ec-bebd-eeef233b70af",
   "metadata": {
    "tags": []
   },
   "source": [
    "## Veri Hazırlama ve Temizleme"
   ]
  },
  {
   "cell_type": "code",
   "execution_count": null,
   "id": "15347bf7-0579-41e3-b2d1-9f653d359930",
   "metadata": {},
   "outputs": [],
   "source": [
    "haber_veriseti = df[[\"text\"]]"
   ]
  },
  {
   "cell_type": "code",
   "execution_count": null,
   "id": "435030da-5e88-4a13-8c4e-36a1c9ba43d1",
   "metadata": {},
   "outputs": [],
   "source": [
    "haber_veriseti"
   ]
  },
  {
   "cell_type": "markdown",
   "id": "5bd56a27-6860-400c-a85a-74c02218cf8a",
   "metadata": {
    "tags": []
   },
   "source": [
    "## Genel veri temizleme işlemleri \n",
    "Tüm kelimeleri küçük hale getirme, stop wordsleri kaldırma, noktalama işaretlerini kaldırma"
   ]
  },
  {
   "cell_type": "code",
   "execution_count": null,
   "id": "ada43b02-2b2d-4f08-a9f3-3120acf7869b",
   "metadata": {},
   "outputs": [],
   "source": [
    "# Veri temizleme işlemi için, bir fonksiyon tanımlayalım ve \n",
    "# Bu fonksiyonu bütün veri üzerinde uygulayalım\n",
    "# Öncesinde noktalama işaretleri ve storwords kümelerini tanımlayalım\n",
    "import re\n",
    "import string\n",
    "import nltk\n",
    "from nltk.corpus import stopwords\n",
    "\n",
    "nok_isaretleri_kümesi = string.punctuation\n",
    "# nltk kütüphanesinin etkisiz kelimeler kümesini kullanalım \n",
    "etkisiz_kelimeler_kümesi = stopwords.words('turkish') \n",
    "# stopwords kümesine biz de istediğimiz kelimeleri ekleyebiliriz\n",
    "# Örnek:\n",
    "etkisiz_kelimeler_kümesi.extend([\"bir\",\"kadar\",\"sonra\"])\n",
    "\n",
    "def veri_temizleme(metin):\n",
    "    # Metindeki tüm harfleri küçük duruma getirir.\n",
    "    metin = metin.lower()\n",
    "    # Verisetimizdeki yeni satır karekterleri, boşluk karekteriyle değiştirdik.  \n",
    "    metin = metin.replace(\"\\\\n\",\" \")\n",
    "    # Kesme işareti ve sonrasındaki karekterlerin kaldırılması\n",
    "    metin = re.sub(\"’(\\w+)\", \"\", metin) \n",
    "    metin = re.sub(\"'(\\w+)\", \"\", metin) \n",
    "    metin = re.sub(\"[“,‘,’,”]\", \"\", metin) \n",
    "    # Sayıların Kaldırılması\n",
    "    metin = re.sub(\"[0-9]+\", \"\", metin)\n",
    "    # Noktalama işaretlerinin kaldırılması\n",
    "    metin = \"\".join(list(map(lambda x:x if x not in nok_isaretleri_kümesi else \" \", metin)))\n",
    "    # Etkisiz kelimelerin bir kısmının kaldırılması\n",
    "    metin = \" \".join([i for i in metin.split() if i not in etkisiz_kelimeler_kümesi])\n",
    "    # Metinde tek kalan harfleri de çıkartalım\n",
    "    metin = \" \".join([i for i in metin.split() if len(i) > 1])\n",
    "    \n",
    "    return metin"
   ]
  },
  {
   "cell_type": "code",
   "execution_count": null,
   "id": "0d74786c-8368-416a-afdd-d2d9bc4edfa6",
   "metadata": {},
   "outputs": [],
   "source": [
    "haber_veriseti[\"temizlenen_metin\"] = haber_veriseti[\"text\"].apply(lambda x:veri_temizleme(x))"
   ]
  },
  {
   "cell_type": "markdown",
   "id": "27b12dcd-719b-471b-9ab3-67f14afefa5a",
   "metadata": {},
   "source": [
    "#### Ham Metin - Temizlenmiş Metin Örneği"
   ]
  },
  {
   "cell_type": "code",
   "execution_count": null,
   "id": "8be5a3fb-8cf5-4d51-a6f4-3b9c8f71e968",
   "metadata": {},
   "outputs": [],
   "source": [
    "haber_veriseti.iloc[5].text"
   ]
  },
  {
   "cell_type": "code",
   "execution_count": null,
   "id": "f06559f0-74a6-4019-8847-bb6baafcf767",
   "metadata": {},
   "outputs": [],
   "source": [
    "haber_veriseti.iloc[5].temizlenen_metin"
   ]
  },
  {
   "cell_type": "code",
   "execution_count": null,
   "id": "1cef0b6d-869f-477e-bb42-a77c2d49f5eb",
   "metadata": {},
   "outputs": [],
   "source": [
    "haber_veriseti.head()"
   ]
  },
  {
   "cell_type": "code",
   "execution_count": null,
   "id": "fbc174be-ad65-495a-8a4f-cf9342d57cf5",
   "metadata": {},
   "outputs": [],
   "source": [
    "haber_veriseti[\"temizlenen_metin_token\"] = haber_veriseti[\"temizlenen_metin\"].apply(lambda x: x.split())"
   ]
  },
  {
   "cell_type": "code",
   "execution_count": null,
   "id": "64aefc8e-6aec-43ce-9ce3-423a866787e8",
   "metadata": {},
   "outputs": [],
   "source": [
    "haber_veriseti.head()"
   ]
  },
  {
   "cell_type": "markdown",
   "id": "da839520-303e-4d1a-ab7e-264f53269068",
   "metadata": {},
   "source": [
    "## LDA Model Eğitimi"
   ]
  },
  {
   "cell_type": "code",
   "execution_count": null,
   "id": "bf45c079-94a5-42fa-978d-36c2886dfbeb",
   "metadata": {},
   "outputs": [],
   "source": [
    "import gensim\n",
    "import pyLDAvis.gensim"
   ]
  },
  {
   "cell_type": "code",
   "execution_count": null,
   "id": "c0be9dc5-f9c3-44d4-bb3d-375589f70151",
   "metadata": {},
   "outputs": [],
   "source": [
    "#Kelime Listesi\n",
    "tokenlastirilmis_metinler = haber_veriseti[\"temizlenen_metin_token\"]\n",
    "kelime_listesi=gensim.corpora.Dictionary(tokenlastirilmis_metinler)\n",
    "#kelime listesi filtreleme\n",
    "kelime_listesi.filter_extremes(no_below=1,no_above=0.7) #?\n"
   ]
  },
  {
   "cell_type": "code",
   "execution_count": null,
   "id": "9d70d5e4-e942-444c-b9c5-5fd116666c9f",
   "metadata": {},
   "outputs": [],
   "source": [
    "#terimlerin vektörleştirilmesi - Doküman terim matrisinin oluşturulması\n",
    "dokuman_terim_matrisi = [kelime_listesi.doc2bow(terim) for terim in tokenlastirilmis_metinler]"
   ]
  },
  {
   "cell_type": "code",
   "execution_count": null,
   "id": "8bec90fc-2040-423b-8eef-82adc95ee0b1",
   "metadata": {},
   "outputs": [],
   "source": [
    "#LDA Model\n",
    "lda_model = gensim.models.ldamodel.LdaModel(corpus = dokuman_terim_matrisi,\n",
    "                                           id2word= kelime_listesi,\n",
    "                                           num_topics=15,\n",
    "                                           passes = 10)\n",
    "\n",
    "\n",
    "\n",
    "\n"
   ]
  },
  {
   "cell_type": "markdown",
   "id": "0b9c5d8d-dc17-40df-815b-76a1e4e309da",
   "metadata": {},
   "source": [
    "## Çıkarımlar"
   ]
  },
  {
   "cell_type": "code",
   "execution_count": null,
   "id": "fe558305-5331-4c49-bedf-5ad79e6208ce",
   "metadata": {},
   "outputs": [],
   "source": [
    "#Oluşturulan soyut konular içerisinde en fazla bulunan terimler\n",
    "konular = lda_model.print_topics(num_words = 7)\n",
    "for konu in konular:\n",
    "    print(konu)"
   ]
  },
  {
   "cell_type": "markdown",
   "id": "9d92e5b1-c2ff-4c52-85fb-6815560a0ea5",
   "metadata": {
    "tags": []
   },
   "source": [
    "# En iyi performansı sağlayan konu sayısını belirleme \n",
    "## Tutarlılık (Coherence) Skoru ile en iyi konu sayısını seçme"
   ]
  },
  {
   "cell_type": "code",
   "execution_count": null,
   "id": "4752c79c-df00-4e65-b0b0-b08fd32f8715",
   "metadata": {},
   "outputs": [],
   "source": [
    "pyLDAvis.enable_notebook()\n",
    "gorsel = pyLDAvis.gensim.prepare(lda_model, dokuman_terim_matrisi, kelime_listesi, mds='mmds')\n",
    "pyLDAvis.display(gorsel)"
   ]
  },
  {
   "cell_type": "code",
   "execution_count": null,
   "id": "01655b29-01fd-46ef-b837-4f7a1520cce1",
   "metadata": {},
   "outputs": [],
   "source": [
    "from gensim.models import CoherenceModel\n",
    "konu_sayisi_aralik_listesi = range(9,30,3)"
   ]
  },
  {
   "cell_type": "code",
   "execution_count": null,
   "id": "41e3939c-b91f-4fd4-982a-79610631e812",
   "metadata": {},
   "outputs": [],
   "source": [
    "tutarlilik_skorlar_listesi=list()\n",
    "konu_sayisi_listesi= list()\n",
    "\n",
    "for konu_sayisi in konu_sayisi_aralik_listesi:\n",
    "    lda_model = gensim.models.ldamodel.LdaModel(corpus = dokuman_terim_matrisi,\n",
    "                                           id2word= kelime_listesi,\n",
    "                                           num_topics=konu_sayisi,\n",
    "                                           passes = 10)\n",
    "    tutarlilik_model_lda=CoherenceModel(model=lda_model,texts=tokenlastirilmis_metinler,\n",
    "                                       dictionary=kelime_listesi , coherence= \"c_v\")\n",
    "    gecici_tutarlilik_skoru_lda=tutarlilik_model_lda.get_coherence()\n",
    "    tutarlilik_skorlar_listesi.append(gecici_tutarlilik_skoru_lda)\n",
    "    konu_sayisi_listesi.append(konu_sayisi)\n",
    "    \n",
    "    \n",
    "    "
   ]
  },
  {
   "cell_type": "code",
   "execution_count": null,
   "id": "5bde916e-6fae-40c5-aefc-19ec6616fdeb",
   "metadata": {},
   "outputs": [],
   "source": [
    "import matplotlib.pyplot as plt\n",
    "plt.plot(konu_sayisi_listesi,tutarlilik_skorlar_listesi,\"-\"),\n",
    "plt.xlabel(\"Konu Sayıları\")\n",
    "plt.ylabel(\"Tutarlılık Skorları\")\n",
    "plt.show()"
   ]
  },
  {
   "cell_type": "code",
   "execution_count": null,
   "id": "af2994db-e634-4a86-9e6b-620a49c8fa1f",
   "metadata": {},
   "outputs": [],
   "source": [
    " #Oluşturulan soyut konular içerisinde en fazla bulunan terimler\n",
    "konular = lda_model.print_topics(num_words = 7)\n",
    "konular = sorted(konular,key = lambda x : x[0])\n",
    "for konu in konular:\n",
    "    print(konu)"
   ]
  },
  {
   "cell_type": "code",
   "execution_count": null,
   "id": "d7565cba-4a0c-42d6-b5b0-b7e7e22b8db9",
   "metadata": {},
   "outputs": [],
   "source": [
    "pyLDAvis.enable_notebook()\n",
    "gorsel = pyLDAvis.gensim.prepare(lda_model, dokuman_terim_matrisi, kelime_listesi, mds='mmds')\n",
    "pyLDAvis.display(gorsel)"
   ]
  }
 ],
 "metadata": {
  "kernelspec": {
   "display_name": "Python 3 (ipykernel)",
   "language": "python",
   "name": "python3"
  },
  "language_info": {
   "codemirror_mode": {
    "name": "ipython",
    "version": 3
   },
   "file_extension": ".py",
   "mimetype": "text/x-python",
   "name": "python",
   "nbconvert_exporter": "python",
   "pygments_lexer": "ipython3",
   "version": "3.10.9"
  },
  "widgets": {
   "application/vnd.jupyter.widget-state+json": {
    "state": {},
    "version_major": 2,
    "version_minor": 0
   }
  }
 },
 "nbformat": 4,
 "nbformat_minor": 5
}
